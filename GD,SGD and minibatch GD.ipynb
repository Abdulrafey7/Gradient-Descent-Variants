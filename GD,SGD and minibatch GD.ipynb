{
 "cells": [
  {
   "cell_type": "code",
   "execution_count": 1,
   "id": "4d22e6c5-0d46-4ad1-a3c4-f0c05ba02af4",
   "metadata": {},
   "outputs": [],
   "source": [
    "import pandas as pd\n",
    "import numpy as np\n",
    "from matplotlib import pyplot as plt\n",
    "%matplotlib inline"
   ]
  },
  {
   "cell_type": "code",
   "execution_count": 2,
   "id": "fce78e7d-1dd6-4fed-8cef-b55403ed088f",
   "metadata": {},
   "outputs": [
    {
     "data": {
      "text/html": [
       "<div>\n",
       "<style scoped>\n",
       "    .dataframe tbody tr th:only-of-type {\n",
       "        vertical-align: middle;\n",
       "    }\n",
       "\n",
       "    .dataframe tbody tr th {\n",
       "        vertical-align: top;\n",
       "    }\n",
       "\n",
       "    .dataframe thead th {\n",
       "        text-align: right;\n",
       "    }\n",
       "</style>\n",
       "<table border=\"1\" class=\"dataframe\">\n",
       "  <thead>\n",
       "    <tr style=\"text-align: right;\">\n",
       "      <th></th>\n",
       "      <th>area</th>\n",
       "      <th>bedrooms</th>\n",
       "      <th>price</th>\n",
       "    </tr>\n",
       "  </thead>\n",
       "  <tbody>\n",
       "    <tr>\n",
       "      <th>0</th>\n",
       "      <td>1056</td>\n",
       "      <td>2</td>\n",
       "      <td>39.07</td>\n",
       "    </tr>\n",
       "    <tr>\n",
       "      <th>1</th>\n",
       "      <td>2600</td>\n",
       "      <td>4</td>\n",
       "      <td>120.00</td>\n",
       "    </tr>\n",
       "    <tr>\n",
       "      <th>2</th>\n",
       "      <td>1440</td>\n",
       "      <td>3</td>\n",
       "      <td>62.00</td>\n",
       "    </tr>\n",
       "    <tr>\n",
       "      <th>3</th>\n",
       "      <td>1521</td>\n",
       "      <td>3</td>\n",
       "      <td>75.00</td>\n",
       "    </tr>\n",
       "    <tr>\n",
       "      <th>4</th>\n",
       "      <td>1200</td>\n",
       "      <td>2</td>\n",
       "      <td>51.00</td>\n",
       "    </tr>\n",
       "  </tbody>\n",
       "</table>\n",
       "</div>"
      ],
      "text/plain": [
       "   area  bedrooms   price\n",
       "0  1056         2   39.07\n",
       "1  2600         4  120.00\n",
       "2  1440         3   62.00\n",
       "3  1521         3   75.00\n",
       "4  1200         2   51.00"
      ]
     },
     "execution_count": 2,
     "metadata": {},
     "output_type": "execute_result"
    }
   ],
   "source": [
    "df = pd.read_csv(\"homeprices_banglore.csv\")\n",
    "df.head()"
   ]
  },
  {
   "cell_type": "code",
   "execution_count": 4,
   "id": "96f5aa0a-bc79-40e4-83c9-ddd7d1cbdc89",
   "metadata": {},
   "outputs": [],
   "source": [
    "from sklearn import preprocessing \n",
    "\n",
    "sx = preprocessing.MinMaxScaler()\n",
    "sy = preprocessing.MinMaxScaler()\n",
    "\n",
    "X_scaled = sx.fit_transform(df.drop('price',axis=1))\n",
    "Y_scaled = sy.fit_transform(df['price'].values.reshape(df.shape[0],1))\n"
   ]
  },
  {
   "cell_type": "code",
   "execution_count": 5,
   "id": "204d0718-2ddf-4975-8f63-471492aee6c6",
   "metadata": {},
   "outputs": [
    {
     "data": {
      "text/plain": [
       "array([[0.08827586, 0.25      ],\n",
       "       [0.62068966, 0.75      ],\n",
       "       [0.22068966, 0.5       ],\n",
       "       [0.24862069, 0.5       ],\n",
       "       [0.13793103, 0.25      ],\n",
       "       [0.12758621, 0.25      ],\n",
       "       [0.6662069 , 0.75      ],\n",
       "       [0.86206897, 0.75      ],\n",
       "       [0.17586207, 0.5       ],\n",
       "       [1.        , 1.        ],\n",
       "       [0.34482759, 0.5       ],\n",
       "       [0.68448276, 0.75      ],\n",
       "       [0.06896552, 0.25      ],\n",
       "       [0.10344828, 0.25      ],\n",
       "       [0.5       , 0.5       ],\n",
       "       [0.12931034, 0.25      ],\n",
       "       [0.13103448, 0.5       ],\n",
       "       [0.25517241, 0.5       ],\n",
       "       [0.67931034, 0.5       ],\n",
       "       [0.        , 0.        ]])"
      ]
     },
     "execution_count": 5,
     "metadata": {},
     "output_type": "execute_result"
    }
   ],
   "source": [
    "X_scaled"
   ]
  },
  {
   "cell_type": "code",
   "execution_count": 9,
   "id": "6c02d03f-5d71-43f1-9012-d801b2d9e048",
   "metadata": {},
   "outputs": [],
   "source": [
    "Y_scaled = Y_scaled.reshape(20,)"
   ]
  },
  {
   "cell_type": "code",
   "execution_count": 12,
   "id": "33a64ea1-21e1-4a0c-bf8b-0776d1168baf",
   "metadata": {},
   "outputs": [
    {
     "data": {
      "text/plain": [
       "(20, 2)"
      ]
     },
     "execution_count": 12,
     "metadata": {},
     "output_type": "execute_result"
    }
   ],
   "source": [
    "X_scaled.shape"
   ]
  },
  {
   "cell_type": "code",
   "execution_count": 26,
   "id": "8fad207c-75e9-4534-9681-e852a23c5423",
   "metadata": {},
   "outputs": [],
   "source": [
    "def batch_GD(x,y,epochs,learning_rate=0.01):\n",
    "\n",
    "    features = x.shape[1]\n",
    "    w = np.ones(shape = (features,))\n",
    "    b = 0 \n",
    "    n = x.shape[0]\n",
    "\n",
    "    cost_list = []\n",
    "    epoch_list = []\n",
    "    \n",
    "    for i in range(epochs):\n",
    "    \n",
    "        y_predicted = np.dot(w,x.T) + b\n",
    "        \n",
    "        w_grad = -(2/n)*(x.T.dot(y-y_predicted))\n",
    "        b_grad = -(2/n)*np.sum(y-y_predicted)\n",
    "\n",
    "        w = w - w_grad*learning_rate\n",
    "        b = b - b_grad*learning_rate\n",
    "\n",
    "        cost = np.mean(np.square(y-y_predicted))\n",
    "\n",
    "        if i%10 == 0:\n",
    "            cost_list.append(cost)\n",
    "            epoch_list.append(i)\n",
    "        \n",
    "    return w, b, cost, cost_list, epoch_list\n",
    "            \n"
   ]
  },
  {
   "cell_type": "code",
   "execution_count": 27,
   "id": "288c743e-1315-49a7-ab59-d1c1098f37af",
   "metadata": {},
   "outputs": [
    {
     "data": {
      "text/plain": [
       "(array([0.70712464, 0.67456527]),\n",
       " np.float64(-0.23034857438407427),\n",
       " np.float64(0.0068641890429808105))"
      ]
     },
     "execution_count": 27,
     "metadata": {},
     "output_type": "execute_result"
    }
   ],
   "source": [
    "w, b, cost, cost_list, epoch_list = batch_GD(X_scaled,Y_scaled.reshape(Y_scaled.shape[0],),500)\n",
    "w, b, cost"
   ]
  },
  {
   "cell_type": "code",
   "execution_count": 28,
   "id": "0e4fe0fd-7032-4b78-9198-1119aa1dcd9e",
   "metadata": {},
   "outputs": [
    {
     "data": {
      "text/plain": [
       "[<matplotlib.lines.Line2D at 0x2a8b40aed50>]"
      ]
     },
     "execution_count": 28,
     "metadata": {},
     "output_type": "execute_result"
    },
    {
     "data": {
      "image/png": "[encoded data removed]",
      "text/plain": [
       "<Figure size 640x480 with 1 Axes>"
      ]
     },
     "metadata": {},
     "output_type": "display_data"
    }
   ],
   "source": [
    "plt.xlabel(\"epoch\")\n",
    "plt.ylabel(\"cost\")\n",
    "plt.plot(epoch_list,cost_list)"
   ]
  },
  {
   "cell_type": "code",
   "execution_count": 51,
   "id": "acaad257-fb38-4285-871b-9b0e751ad03f",
   "metadata": {},
   "outputs": [],
   "source": [
    "import random\n",
    "\n",
    "def SGD(x,y,epochs,learning_rate=0.01):\n",
    "\n",
    "    features = x.shape[1]\n",
    "    w = np.ones(shape = (features,))\n",
    "    b = 0 \n",
    "    n = x.shape[0]\n",
    "\n",
    "    cost_list = []\n",
    "    epoch_list = []\n",
    "    \n",
    "    for i in range(epochs):\n",
    "\n",
    "        k = random.randint(0,n-1)\n",
    "        sample_x = x[k]\n",
    "        sample_y = y[k]\n",
    "        \n",
    "        y_predicted = np.dot(w,sample_x.T) + b\n",
    "\n",
    "        cost = np.square(sample_y-y_predicted)\n",
    "\n",
    "        w_grad = -(2/n)*(sample_x.T.dot(sample_y-y_predicted))\n",
    "        b_grad = -(2/n)*np.sum(sample_y-y_predicted)\n",
    "\n",
    "        w = w - w_grad*learning_rate\n",
    "        b = b - b_grad*learning_rate\n",
    "\n",
    "        if i%10 == 0:\n",
    "            cost_list.append(cost)\n",
    "            epoch_list.append(i)\n",
    "   \n",
    "    return w, b, cost, cost_list, epoch_list\n",
    "            \n"
   ]
  },
  {
   "cell_type": "code",
   "execution_count": 52,
   "id": "765a6dd3-0dd5-48f5-8228-f7e258686b38",
   "metadata": {},
   "outputs": [
    {
     "data": {
      "text/plain": [
       "(array([0.70846859, 0.67169964]),\n",
       " np.float64(-0.23258291961750197),\n",
       " np.float64(0.011619875651140652))"
      ]
     },
     "execution_count": 52,
     "metadata": {},
     "output_type": "execute_result"
    }
   ],
   "source": [
    "w_sgd, b_sgd, cost_sgd, cost_list_sgd, epoch_list_sgd = SGD(X_scaled,Y_scaled.reshape(Y_scaled.shape[0],),10000)\n",
    "w_sgd, b_sgd, cost_sgd"
   ]
  },
  {
   "cell_type": "code",
   "execution_count": 53,
   "id": "e8f94073-635a-4e06-87c6-fa1dbfc372a1",
   "metadata": {},
   "outputs": [
    {
     "data": {
      "text/plain": [
       "(array([0.70712464, 0.67456527]), np.float64(-0.23034857438407427))"
      ]
     },
     "execution_count": 53,
     "metadata": {},
     "output_type": "execute_result"
    }
   ],
   "source": [
    "w,b"
   ]
  },
  {
   "cell_type": "code",
   "execution_count": 54,
   "id": "859d8ed2-1c1a-4d97-ba5b-3350f5dff8be",
   "metadata": {},
   "outputs": [
    {
     "data": {
      "text/plain": [
       "[<matplotlib.lines.Line2D at 0x2a8b64b6850>]"
      ]
     },
     "execution_count": 54,
     "metadata": {},
     "output_type": "execute_result"
    },
    {
     "data": {
      "image/png": "[encoded data removed]",
      "text/plain": [
       "<Figure size 640x480 with 1 Axes>"
      ]
     },
     "metadata": {},
     "output_type": "display_data"
    }
   ],
   "source": [
    "plt.xlabel(\"epoch\")\n",
    "plt.ylabel(\"cost\")\n",
    "plt.plot(epoch_list_sgd,cost_list_sgd)"
   ]
  },
  {
   "cell_type": "code",
   "execution_count": 63,
   "id": "e74e275f-f65f-4a93-8082-024c4e25fee0",
   "metadata": {},
   "outputs": [
    {
     "data": {
      "text/plain": [
       "(20, 2)"
      ]
     },
     "execution_count": 63,
     "metadata": {},
     "output_type": "execute_result"
    }
   ],
   "source": [
    "X_scaled.shape"
   ]
  },
  {
   "cell_type": "code",
   "execution_count": 89,
   "id": "717ac828-f449-4945-8e3f-96f2711bbd06",
   "metadata": {},
   "outputs": [],
   "source": [
    "def mini_batch_gd(x,y,epochs,batch_size=5,learning_rate=0.01):\n",
    "    \n",
    "    features = x.shape[1]\n",
    "    w = np.ones(shape = (features,))\n",
    "    b = 0 \n",
    "    n = x.shape[0]\n",
    "\n",
    "    cost_list = []\n",
    "    epoch_list = []\n",
    "    \n",
    "    for i in range(epochs):\n",
    "\n",
    "        s = random.randint(0,n-2)\n",
    "        e = s+batch_size\n",
    "\n",
    "        sample_x = x[s:e]\n",
    "        sample_y = y[s:e]\n",
    "\n",
    "        y_predicted = np.dot(w,sample_x.T) + b\n",
    "\n",
    "        cost = np.mean(np.square(sample_y-y_predicted))\n",
    "\n",
    "        w_grad = -(2/n)*(sample_x.T.dot(sample_y-y_predicted))\n",
    "        b_grad = -(2/n)*np.sum(sample_y-y_predicted)\n",
    "\n",
    "        w = w - w_grad*learning_rate\n",
    "        b = b - b_grad*learning_rate\n",
    "\n",
    "        if i%10 == 0:\n",
    "            cost_list.append(cost)\n",
    "            epoch_list.append(i)\n",
    "   \n",
    "    return w, b, cost, cost_list, epoch_list\n",
    "\n",
    "        "
   ]
  },
  {
   "cell_type": "code",
   "execution_count": 90,
   "id": "5454674e-fe22-4b34-944d-df04faf2e29f",
   "metadata": {},
   "outputs": [],
   "source": [
    "w_mbgd, b_mbgd, cost_mbgd, cost_list_mbgd, epoch_list_mbgd = mini_batch_gd(X_scaled,Y_scaled.reshape(Y_scaled.shape[0],),2200)"
   ]
  },
  {
   "cell_type": "code",
   "execution_count": 91,
   "id": "e6c71d99-5d57-43e0-8374-424ae339d312",
   "metadata": {},
   "outputs": [
    {
     "data": {
      "text/plain": [
       "(array([0.70625628, 0.67719544]),\n",
       " np.float64(-0.23266717036385567),\n",
       " np.float64(0.014680558639832591))"
      ]
     },
     "execution_count": 91,
     "metadata": {},
     "output_type": "execute_result"
    }
   ],
   "source": [
    "w_mbgd, b_mbgd, cost_mbgd"
   ]
  },
  {
   "cell_type": "code",
   "execution_count": 79,
   "id": "361ce82a-da6a-4849-bd23-4cc686a14e6d",
   "metadata": {},
   "outputs": [
    {
     "data": {
      "text/plain": [
       "(array([0.70712464, 0.67456527]), np.float64(-0.23034857438407427))"
      ]
     },
     "execution_count": 79,
     "metadata": {},
     "output_type": "execute_result"
    }
   ],
   "source": [
    "w,b"
   ]
  },
  {
   "cell_type": "code",
   "execution_count": 92,
   "id": "2e3a872d-913f-470a-9f14-ea39fb0ed29c",
   "metadata": {},
   "outputs": [
    {
     "data": {
      "text/plain": [
       "[<matplotlib.lines.Line2D at 0x2a8b94a6d50>]"
      ]
     },
     "execution_count": 92,
     "metadata": {},
     "output_type": "execute_result"
    },
    {
     "data": {
      "image/png": "[encoded data removed]",
      "text/plain": [
       "<Figure size 640x480 with 1 Axes>"
      ]
     },
     "metadata": {},
     "output_type": "display_data"
    }
   ],
   "source": [
    "plt.xlabel(\"epoch\")\n",
    "plt.ylabel(\"cost\")\n",
    "plt.plot(epoch_list_mbgd,cost_list_mbgd)"
   ]
  },
  {
   "cell_type": "code",
   "execution_count": null,
   "id": "0d88080d-7644-4d36-abc6-b4c523cdf411",
   "metadata": {},
   "outputs": [],
   "source": []
  }
 ],
 "metadata": {
  "kernelspec": {
   "display_name": "Python 3 (ipykernel)",
   "language": "python",
   "name": "python3"
  },
  "language_info": {
   "codemirror_mode": {
    "name": "ipython",
    "version": 3
   },
   "file_extension": ".py",
   "mimetype": "text/x-python",
   "name": "python",
   "nbconvert_exporter": "python",
   "pygments_lexer": "ipython3",
   "version": "3.13.2"
  }
 },
 "nbformat": 4,
 "nbformat_minor": 5
}
